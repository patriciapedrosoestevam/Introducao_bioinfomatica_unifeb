{
  "nbformat": 4,
  "nbformat_minor": 0,
  "metadata": {
    "colab": {
      "provenance": []
    },
    "kernelspec": {
      "name": "python3",
      "display_name": "Python 3"
    },
    "language_info": {
      "name": "python"
    }
  },
  "cells": [
    {
      "cell_type": "markdown",
      "source": [
        "# Carrega as bibliotecas"
      ],
      "metadata": {
        "id": "dazUr9iSkrWG"
      }
    },
    {
      "cell_type": "code",
      "source": [
        "import decimal\n",
        "import math"
      ],
      "metadata": {
        "id": "t0EsBm8Gk0Cq"
      },
      "execution_count": 2,
      "outputs": []
    },
    {
      "cell_type": "markdown",
      "source": [
        "# Script da Aula 1 - Python"
      ],
      "metadata": {
        "id": "vZwxnTikk8HI"
      }
    },
    {
      "cell_type": "code",
      "execution_count": 4,
      "metadata": {
        "colab": {
          "base_uri": "https://localhost:8080/"
        },
        "id": "wJenVAKfkiA9",
        "outputId": "8c54c406-ba9f-47d9-c816-992100e60c1d"
      },
      "outputs": [
        {
          "output_type": "stream",
          "name": "stdout",
          "text": [
            "12\n",
            "47\n",
            "15\n",
            "19.666666666666668\n",
            "100\n",
            "19.666666666666668\n",
            "2.0\n",
            "5\n",
            "7.38905609893065\n",
            "2.302585092994046\n",
            "1.0\n",
            "6\n",
            "dict_keys(['__name__', '__doc__', '__package__', '__loader__', '__spec__', '__builtin__', '__builtins__', '_ih', '_oh', '_dh', 'In', 'Out', 'get_ipython', 'exit', 'quit', '_', '__', '___', '_i', '_ii', '_iii', '_i1', 'decimal', 'math', 'n', 'v', 'f', 'p', 'd', 'vetor_numerico', 'vetor_logico', 'vetor_logico2', 'vetor_caracter', 'vetor_caracter2', 'contador', 'i', '_i2', '_i3', '_i4'])\n",
            "137.2\n",
            "135\n",
            "134\n",
            "[1, 4, -0.3, 9]\n",
            "[True, False, True]\n",
            "[False, True, True]\n",
            "[1, 0, 1]\n",
            "[True, False, True, 1, 4, -0.3, 9]\n",
            "['oi', 'olá', 'tchau', True, False, True, 1, 4, -0.3, 9]\n",
            "1\n",
            "9\n",
            "4\n",
            "[1, 4, -0.3, 9, 5]\n",
            "x é maior que 5\n",
            "Contagem: 1\n",
            "Contagem: 2\n",
            "Contagem: 3\n",
            "Contagem: 4\n",
            "Contagem: 5\n",
            "Iteração: 1\n",
            "Iteração: 2\n",
            "Iteração: 3\n",
            "Iteração: 4\n",
            "Iteração: 5\n",
            "50\n",
            "56\n",
            "55\n"
          ]
        }
      ],
      "source": [
        "# Alterar Precisão Decimal\n",
        "decimal.getcontext().prec = 7  # Define precisão global\n",
        "\n",
        "# Operações Básicas ----\n",
        "print(10 + 2)\n",
        "print(50 - 3)\n",
        "print(5 * 3)\n",
        "print(59 / 3)\n",
        "print(10 ** 2)\n",
        "\n",
        "# Alterar Precisão Decimal\n",
        "decimal.getcontext().prec = 4\n",
        "print(59 / 3)\n",
        "\n",
        "# Funções Matemáticas ---\n",
        "print(math.sqrt(4))   # Raiz quadrada\n",
        "print(abs(-5))        # Valor absoluto\n",
        "print(math.exp(2))    # Exponencial\n",
        "print(math.log(10))   # Logaritmo natural\n",
        "print(math.log10(10)) # Logaritmo base 10\n",
        "print(math.factorial(3)) # Fatorial\n",
        "\n",
        "# Criando Variáveis ----\n",
        "x = 10\n",
        "curso_2025 = 100\n",
        "\n",
        "# Remover Variáveis (usando del)\n",
        "del x, curso_2025\n",
        "\n",
        "# Listar Variáveis no Ambiente\n",
        "print(globals().keys())  # Lista todas as variáveis ativas\n",
        "\n",
        "# Classes de Variáveis ----\n",
        "n = 134\n",
        "v = True\n",
        "f = False\n",
        "p = '3'\n",
        "d = 3.2\n",
        "\n",
        "print(n + d)  # Ok\n",
        "# print(n + p)  # Erro! Não pode somar número com string\n",
        "print(n + v)  # True é tratado como 1\n",
        "print(n + f)  # False é tratado como 0\n",
        "\n",
        "# Criando Listas ----\n",
        "vetor_numerico = [1, 4, -0.3, 9]  # Lista numérica\n",
        "print(vetor_numerico)\n",
        "\n",
        "vetor_logico = [True, False, True]  # Lista lógica\n",
        "print(vetor_logico)\n",
        "\n",
        "# Convertendo Valores\n",
        "print([bool(x) for x in [0, 1, 100]]) # Convertendo números para booleanos\n",
        "print([int(x) for x in vetor_logico]) # Convertendo booleanos para números\n",
        "\n",
        "# Concatenando Listas\n",
        "vetor_logico2 = vetor_logico + vetor_numerico\n",
        "print(vetor_logico2)\n",
        "\n",
        "vetor_caracter = [\"oi\", \"olá\", \"tchau\"]\n",
        "vetor_caracter2 = vetor_caracter + vetor_logico + vetor_numerico\n",
        "print(vetor_caracter2)\n",
        "\n",
        "# Manipulação de Listas\n",
        "print(vetor_numerico[0])  # Primeiro elemento\n",
        "print(vetor_numerico[-1]) # Último elemento\n",
        "print(len(vetor_numerico)) # Tamanho da lista\n",
        "\n",
        "vetor_numerico.append(5)  # Adiciona um elemento ao final\n",
        "print(vetor_numerico)\n",
        "\n",
        "# Comandos de Decisão ----\n",
        "# Condicional (if e else)\n",
        "x = 10\n",
        "if x > 5:\n",
        "    print(\"x é maior que 5\")\n",
        "else:\n",
        "    print(\"x é menor ou igual a 5\")\n",
        "\n",
        "# Loop while\n",
        "contador = 1\n",
        "while contador <= 5:\n",
        "    print(f\"Contagem: {contador}\")\n",
        "    contador += 1\n",
        "\n",
        "# Loop for\n",
        "for i in range(1, 6):\n",
        "    print(f\"Iteração: {i}\")\n",
        "\n",
        "# Exercício: Criar sequência de anos\n",
        "x = list(range(1970, 2026))\n",
        "\n",
        "# (a) Qual a posição do número 2020?\n",
        "print(x.index(2020))\n",
        "\n",
        "# (b) Quantos elementos existem no vetor?\n",
        "print(len(x))\n",
        "\n",
        "# (c) Diferença entre o primeiro e último elemento\n",
        "print(x[-1] - x[0])\n"
      ]
    }
  ]
}