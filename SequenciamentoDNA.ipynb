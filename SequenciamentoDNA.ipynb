{
  "nbformat": 4,
  "nbformat_minor": 0,
  "metadata": {
    "colab": {
      "provenance": []
    },
    "kernelspec": {
      "name": "python3",
      "display_name": "Python 3"
    },
    "language_info": {
      "name": "python"
    }
  },
  "cells": [
    {
      "cell_type": "markdown",
      "source": [
        "\n",
        "Instalando Biopython (no Colab)\n",
        "\n"
      ],
      "metadata": {
        "id": "y0EywBw0YPE4"
      }
    },
    {
      "cell_type": "code",
      "execution_count": 2,
      "metadata": {
        "colab": {
          "base_uri": "https://localhost:8080/"
        },
        "id": "rtNtjVwHX01m",
        "outputId": "53df4540-2a50-4c78-b485-090231a5c08d"
      },
      "outputs": [
        {
          "output_type": "stream",
          "name": "stdout",
          "text": [
            "Collecting biopython\n",
            "  Downloading biopython-1.85-cp311-cp311-manylinux_2_17_x86_64.manylinux2014_x86_64.whl.metadata (13 kB)\n",
            "Requirement already satisfied: numpy in /usr/local/lib/python3.11/dist-packages (from biopython) (2.0.2)\n",
            "Downloading biopython-1.85-cp311-cp311-manylinux_2_17_x86_64.manylinux2014_x86_64.whl (3.3 MB)\n",
            "\u001b[2K   \u001b[90m━━━━━━━━━━━━━━━━━━━━━━━━━━━━━━━━━━━━━━━━\u001b[0m \u001b[32m3.3/3.3 MB\u001b[0m \u001b[31m30.0 MB/s\u001b[0m eta \u001b[36m0:00:00\u001b[0m\n",
            "\u001b[?25hInstalling collected packages: biopython\n",
            "Successfully installed biopython-1.85\n"
          ]
        }
      ],
      "source": [
        "# instalando o Biopython no Colab\n",
        "!pip3 install biopython"
      ]
    },
    {
      "cell_type": "markdown",
      "source": [
        "Importando Biopython"
      ],
      "metadata": {
        "id": "NHZYQbxiYXkW"
      }
    },
    {
      "cell_type": "code",
      "source": [
        "# importando todo o pacote (testa se ele está instalado)\n",
        "import Bio"
      ],
      "metadata": {
        "id": "5RfO5aauYLl9"
      },
      "execution_count": 3,
      "outputs": []
    },
    {
      "cell_type": "markdown",
      "source": [
        "Manipulando sequências"
      ],
      "metadata": {
        "id": "Su0zJ4lbYoxg"
      }
    },
    {
      "cell_type": "code",
      "source": [
        "# Manipulação básica de sequências\n",
        "from Bio.Seq import Seq\n",
        "\n",
        "# Declarando uma sequência\n",
        "seq1 = Seq(\"ACGTAGCTACGATCACAGCTA\")\n",
        "print(\"Minha sequência é\", seq1)\n",
        "\n",
        "# Reverso complementar\n",
        "rc = seq1.reverse_complement()\n",
        "print(\"O reverso complementar é\", rc)\n",
        "\n",
        "# Transcrição\n",
        "rna = seq1.transcribe()\n",
        "print(\"A sequência transcrita é\", rna)\n",
        "\n",
        "# Tradução\n",
        "protein = seq1.translate()\n",
        "print(\"A sequência da proteína é\", protein)"
      ],
      "metadata": {
        "colab": {
          "base_uri": "https://localhost:8080/"
        },
        "id": "EisEkKtXYlEa",
        "outputId": "56879e48-1c11-47b6-86b0-568ef1a811a6"
      },
      "execution_count": 4,
      "outputs": [
        {
          "output_type": "stream",
          "name": "stdout",
          "text": [
            "Minha sequência é ACGTAGCTACGATCACAGCTA\n",
            "O reverso complementar é TAGCTGTGATCGTAGCTACGT\n",
            "A sequência transcrita é ACGUAGCUACGAUCACAGCUA\n",
            "A sequência da proteína é T*LRSQL\n"
          ]
        }
      ]
    },
    {
      "cell_type": "code",
      "source": [
        "print(seq1[0:4]) # mostras os 4 primeiros caracteres"
      ],
      "metadata": {
        "colab": {
          "base_uri": "https://localhost:8080/"
        },
        "id": "AHBtSFf4YvyG",
        "outputId": "2b54311b-2d99-4829-ffda-e8bc539c248e"
      },
      "execution_count": 5,
      "outputs": [
        {
          "output_type": "stream",
          "name": "stdout",
          "text": [
            "ACGT\n"
          ]
        }
      ]
    },
    {
      "cell_type": "code",
      "source": [
        "# Obtendo índices dos nucleotídeos da sequência\n",
        "print(\"Obtendo índices dos nucleotídeos da sequência\")\n",
        "for i, n in enumerate(seq1):\n",
        "  print(i, n)\n",
        "\n",
        "print(seq1)\n",
        "# Buscar substrings\n",
        "print(\"Buscando quantas vezes a substring TACGA na variável seq1\")\n",
        "print(seq1.count('TACGA'))\n",
        "\n",
        "# Reverter sequência\n",
        "print(\"Reverter sequência\")\n",
        "print(seq1)\n",
        "print(seq1[::-1])"
      ],
      "metadata": {
        "colab": {
          "base_uri": "https://localhost:8080/"
        },
        "id": "qpnFTJ8wYxnl",
        "outputId": "c675b11f-88ec-435e-c3d7-7ed06585b5f0"
      },
      "execution_count": 6,
      "outputs": [
        {
          "output_type": "stream",
          "name": "stdout",
          "text": [
            "Obtendo índices dos nucleotídeos da sequência\n",
            "0 A\n",
            "1 C\n",
            "2 G\n",
            "3 T\n",
            "4 A\n",
            "5 G\n",
            "6 C\n",
            "7 T\n",
            "8 A\n",
            "9 C\n",
            "10 G\n",
            "11 A\n",
            "12 T\n",
            "13 C\n",
            "14 A\n",
            "15 C\n",
            "16 A\n",
            "17 G\n",
            "18 C\n",
            "19 T\n",
            "20 A\n",
            "ACGTAGCTACGATCACAGCTA\n",
            "Buscando quantas vezes a substring TACGA na variável seq1\n",
            "1\n",
            "Reverter sequência\n",
            "ACGTAGCTACGATCACAGCTA\n",
            "ATCGACACTAGCATCGATGCA\n"
          ]
        }
      ]
    }
  ]
}